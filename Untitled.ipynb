{
 "cells": [
  {
   "cell_type": "markdown",
   "id": "6c5fd000",
   "metadata": {},
   "source": [
    "Exercise 1"
   ]
  },
  {
   "cell_type": "code",
   "execution_count": 1,
   "id": "b25a114f",
   "metadata": {},
   "outputs": [
    {
     "data": {
      "text/plain": [
       "'robert'"
      ]
     },
     "execution_count": 1,
     "metadata": {},
     "output_type": "execute_result"
    }
   ],
   "source": [
    "my_name = 'robert'\n",
    "my_name"
   ]
  },
  {
   "cell_type": "code",
   "execution_count": 2,
   "id": "e6098bc1",
   "metadata": {},
   "outputs": [
    {
     "data": {
      "text/plain": [
       "8"
      ]
     },
     "execution_count": 2,
     "metadata": {},
     "output_type": "execute_result"
    }
   ],
   "source": [
    "month = 8\n",
    "month"
   ]
  },
  {
   "cell_type": "code",
   "execution_count": 3,
   "id": "009ac9f8",
   "metadata": {},
   "outputs": [
    {
     "data": {
      "text/plain": [
       "3.5"
      ]
     },
     "execution_count": 3,
     "metadata": {},
     "output_type": "execute_result"
    }
   ],
   "source": [
    "gpa = 3.5\n",
    "gpa"
   ]
  },
  {
   "cell_type": "code",
   "execution_count": 4,
   "id": "aef707e0",
   "metadata": {},
   "outputs": [
    {
     "data": {
      "text/plain": [
       "3.6"
      ]
     },
     "execution_count": 4,
     "metadata": {},
     "output_type": "execute_result"
    }
   ],
   "source": [
    "my_name = 'charles'\n",
    "month = 10\n",
    "gpa = 3.6\n",
    "\n",
    "my_name\n",
    "month\n",
    "gpa"
   ]
  },
  {
   "cell_type": "markdown",
   "id": "a60ec807",
   "metadata": {},
   "source": [
    "Exercise 2"
   ]
  },
  {
   "cell_type": "code",
   "execution_count": 5,
   "id": "36d0353b",
   "metadata": {},
   "outputs": [
    {
     "name": "stdout",
     "output_type": "stream",
     "text": [
      "Please enter name hereAshley\n"
     ]
    }
   ],
   "source": [
    "name = input(\"Please enter name here\")"
   ]
  },
  {
   "cell_type": "code",
   "execution_count": 7,
   "id": "c113594f",
   "metadata": {},
   "outputs": [
    {
     "name": "stdout",
     "output_type": "stream",
     "text": [
      "Hello, Ashley\n"
     ]
    }
   ],
   "source": [
    "print(\"Hello,\", name)"
   ]
  },
  {
   "cell_type": "code",
   "execution_count": 8,
   "id": "a2148bb4",
   "metadata": {},
   "outputs": [
    {
     "name": "stdout",
     "output_type": "stream",
     "text": [
      "Please enter your favorite number: 4\n"
     ]
    }
   ],
   "source": [
    "favorite_number = input(\"Please enter your favorite number: \")"
   ]
  },
  {
   "cell_type": "code",
   "execution_count": 9,
   "id": "e18aac63",
   "metadata": {},
   "outputs": [
    {
     "name": "stdout",
     "output_type": "stream",
     "text": [
      "your favorite number is  4\n"
     ]
    }
   ],
   "source": [
    "print( \"your favorite number is \", favorite_number)"
   ]
  },
  {
   "cell_type": "code",
   "execution_count": 12,
   "id": "fdeb77c0",
   "metadata": {},
   "outputs": [
    {
     "name": "stdout",
     "output_type": "stream",
     "text": [
      "4.0 is <class 'str'>\n"
     ]
    }
   ],
   "source": [
    "favorite_number = float(favorite_number)\n",
    "favorite_number = str(favorite_number)\n",
    "\n",
    "print(favorite_number, \"is\", type (favorite_number))"
   ]
  },
  {
   "cell_type": "code",
   "execution_count": 14,
   "id": "7f9247f2",
   "metadata": {},
   "outputs": [
    {
     "name": "stdout",
     "output_type": "stream",
     "text": [
      "4.0\t4.0\t4.0\n"
     ]
    }
   ],
   "source": [
    "print(favorite_number, favorite_number, favorite_number, sep=\"\\t\")"
   ]
  },
  {
   "cell_type": "code",
   "execution_count": 16,
   "id": "0d948aed",
   "metadata": {},
   "outputs": [
    {
     "name": "stdout",
     "output_type": "stream",
     "text": [
      "Ashley\n",
      "Ashley\n",
      "Ashley\n"
     ]
    }
   ],
   "source": [
    "print(name, name, name, sep=\"\\n\")"
   ]
  },
  {
   "cell_type": "code",
   "execution_count": 17,
   "id": "54f1d377",
   "metadata": {},
   "outputs": [
    {
     "name": "stdout",
     "output_type": "stream",
     "text": [
      "5.0\n",
      "5\n"
     ]
    }
   ],
   "source": [
    "answer = 10/2\n",
    "print(answer)\n",
    "\n",
    "print(int(answer))"
   ]
  },
  {
   "cell_type": "code",
   "execution_count": 18,
   "id": "694d52a0",
   "metadata": {},
   "outputs": [
    {
     "name": "stdout",
     "output_type": "stream",
     "text": [
      "88.85714285714286\n"
     ]
    }
   ],
   "source": [
    "total = 80 + 91 + 99 + 78 + 95 + 87 + 92\n",
    "average = total / 7\n",
    "print(average)"
   ]
  },
  {
   "cell_type": "code",
   "execution_count": 19,
   "id": "0697c70d",
   "metadata": {},
   "outputs": [
    {
     "name": "stdout",
     "output_type": "stream",
     "text": [
      "Price:\t\t$ 49.95\n",
      "Quantity:\t  10\n",
      "------------------\n",
      "Subtotal:\t$ 499.5\n",
      "Sales Tax:\t$ 32.4675\n",
      "------------------\n",
      "Total:\t\t$ 531.9675\n"
     ]
    }
   ],
   "source": [
    "price = 49.95\n",
    "qty = 10\n",
    "tax = .065\n",
    "subtotal = price * qty\n",
    "tax *= subtotal\n",
    "total = subtotal + tax\n",
    "\n",
    "# use formatted string\n",
    "print(\"Price:\\t\\t$\", price)\n",
    "print(\"Quantity:\\t \", qty)\n",
    "print(\"------------------\")\n",
    "print(\"Subtotal:\\t$\", subtotal)\n",
    "print(\"Sales Tax:\\t$\", tax)\n",
    "print(\"------------------\")\n",
    "print(\"Total:\\t\\t$\", total)"
   ]
  },
  {
   "cell_type": "code",
   "execution_count": null,
   "id": "d6728d54",
   "metadata": {},
   "outputs": [],
   "source": []
  }
 ],
 "metadata": {
  "kernelspec": {
   "display_name": "Python 3",
   "language": "python",
   "name": "python3"
  },
  "language_info": {
   "codemirror_mode": {
    "name": "ipython",
    "version": 3
   },
   "file_extension": ".py",
   "mimetype": "text/x-python",
   "name": "python",
   "nbconvert_exporter": "python",
   "pygments_lexer": "ipython3",
   "version": "3.8.8"
  }
 },
 "nbformat": 4,
 "nbformat_minor": 5
}
