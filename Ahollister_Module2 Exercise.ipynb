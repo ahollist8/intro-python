{
 "cells": [
  {
   "cell_type": "markdown",
   "metadata": {},
   "source": [
    "## Exercises\n",
    "### Write the pseudocode for these problems. \n",
    "\n",
    "#### Define the problem by constructing an IPO diagram showing input, output, and processing steps\n",
    "Ask yourself\n",
    "- What control structures (sequence, selection and repetition) are required?\n",
    "- What variables are required?\n",
    "\n",
    "Show a check of your solution with **test data** for at least **two valid test cases**\n",
    "If you use the numbers provided in the example then the correct pseudocode will calculate the same result.\n",
    "    "
   ]
  },
  {
   "cell_type": "markdown",
   "metadata": {},
   "source": [
    "#### 1. Find the average score\n",
    "A program is needed to prompt the user operator for exam scores, calculate the average score and display the result to the screen. The average score is calculated as the sum of the scores divided by the number of scores."
   ]
  },
  {
   "cell_type": "markdown",
   "metadata": {},
   "source": [
    "Type Markdown and LaTeX:  𝛼2"
   ]
  },
  {
   "cell_type": "markdown",
   "metadata": {},
   "source": [
    "Begin:\n",
    "- prompt user for exam scores\n",
    "- get exam scores\n",
    "- add all numbers from user input / all exam scores\n",
    "- divide the sum by the total number of exam scores\n",
    "- print the average / quotient to screen\n",
    "End"
   ]
  },
  {
   "cell_type": "markdown",
   "metadata": {},
   "source": [
    "#### 2. How much water runs off a roof in a rain storm?\n",
    "To calculate the runoff from any given rainfall: Take the dimensions of the footprint of the roof and convert them to inches. (So, a 50' x 20' roof is 600\" x 240\"). Multiply the roof dimensions by the number of inches of rainfall. As an example, 600\" x 240\" x 1\" = 144,000 cubic inches of water for an inch of rainfall. Divide that result by 231 to get the number of gallons (because 1 gallon = 231 cubic inches). (144,000/231 = 623.38)."
   ]
  },
  {
   "cell_type": "markdown",
   "metadata": {},
   "source": [
    "Type Markdown and LaTeX:  𝛼2"
   ]
  },
  {
   "cell_type": "markdown",
   "metadata": {},
   "source": [
    "Begin:\n",
    "- prompt user for roof dimensions\n",
    "- take user input and multiply each number by 12 (for 12 inches) to get convert\n",
    "- multiply the converted numbers by the number of inches of rainfall\n",
    "- divide the result by 231 to get the number of gallons\n",
    "End"
   ]
  },
  {
   "cell_type": "code",
   "execution_count": 10,
   "metadata": {},
   "outputs": [
    {
     "name": "stdout",
     "output_type": "stream",
     "text": [
      "2393766.2337662335\n"
     ]
    }
   ],
   "source": [
    "#x = input\n",
    "#y = input\n",
    "#get (x, y)\n",
    "#print(x,y)\n",
    "\n",
    "j=600*12\n",
    "g=800*12\n",
    "\n",
    "h=j*g*8\n",
    "\n",
    "k=h/231\n",
    "\n",
    "print(k)"
   ]
  },
  {
   "cell_type": "markdown",
   "metadata": {},
   "source": [
    "#### 3. Process customer record\n",
    "A program is required to read a customer’s name, a purchase amount and a tax code. The tax code has been validated and will be one of the following: 0 tax exempt (0%) 1 state sales tax only (3%) 2 federal and state sales tax (5%) 3 special sales tax (7%) The program must then compute the sales tax and the total amount due,and print the customer’s name, purchase amount, sales tax and total amount due."
   ]
  },
  {
   "cell_type": "markdown",
   "metadata": {},
   "source": [
    "Type Markdown and LaTeX:  𝛼2"
   ]
  },
  {
   "cell_type": "markdown",
   "metadata": {},
   "source": [
    "Begin:\n",
    "- read input of name\n",
    "- read input of purchase amount\n",
    "- read input of tax code\n",
    "- if tax code = 0 \n",
    "   - then sales tax = 0%\n",
    "- if tax code = 1\n",
    "   - then sales tax = 3%\n",
    "- if tax code = 2\n",
    "   - then sales tax = 5%\n",
    "- if tax code = 3 \n",
    "   - then sales tax = 7%\n",
    "- multiple the sales tax by the purchase amount \n",
    "- add the sum to the purchase amount = total amount\n",
    "- print the total amount, customer's name, purchase amount and sales tax\n",
    "End"
   ]
  },
  {
   "cell_type": "markdown",
   "metadata": {},
   "source": [
    "#### 4. Calculate employee's pay \n",
    "A program is required by a company to read an employee’s number, pay rate and the number of hours worked in a week. The program is then to validate the pay rate field and the hours worked field and, if valid, compute the employee’s weekly pay and then print it and the input data.\n",
    "\n",
    "Validation: According to the company’s rules, the maximum hours an employee can work per week is 60 hours, and the maximum hourly rate is $25.00 per hour. If the hours worked field or the hourly rate field is out of range, the input data and an appropriate message are to be printed and the employee’s weekly pay is not to be calculated.\n",
    "\n",
    "Weekly pay calculation: Weekly pay is calculated as hours worked times pay rate. If more than 35 hours are worked, payment for the overtime hours worked is calculated at time-and-a-half."
   ]
  },
  {
   "cell_type": "markdown",
   "metadata": {},
   "source": [
    "Type Markdown and LaTeX:  𝛼2"
   ]
  },
  {
   "cell_type": "markdown",
   "metadata": {},
   "source": [
    "Begin:\n",
    "- read the employee number\n",
    "- read the pay rate\n",
    "- read the number of hours worked\n",
    "- validate the pay rate and hours worked\n",
    "   - is the hourly rate > 25?\n",
    "   - if yes, then stop and print data is out of range\n",
    "   - if no, then is the number of hours worked > 60\n",
    "   - if yes, then stop and print data is out of range\n",
    "   - if no, then is number of hours worked > 35?\n",
    "   - if yes, then multiple the hourly range by 1.5, then by numbers of hour worked as weekly pay\n",
    "   - print weekly pay, hours worked, hourly rate\n",
    "   - if no, then multiple the hourly rate by the number of hours worked as weekly pay\n",
    "   - print weekly pay, hours worked, hourly rate\n",
    "End   "
   ]
  }
 ],
 "metadata": {
  "kernelspec": {
   "display_name": "Python 3",
   "language": "python",
   "name": "python3"
  },
  "language_info": {
   "codemirror_mode": {
    "name": "ipython",
    "version": 3
   },
   "file_extension": ".py",
   "mimetype": "text/x-python",
   "name": "python",
   "nbconvert_exporter": "python",
   "pygments_lexer": "ipython3",
   "version": "3.8.8"
  }
 },
 "nbformat": 4,
 "nbformat_minor": 2
}
