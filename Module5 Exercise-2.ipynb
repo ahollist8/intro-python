{
 "cells": [
  {
   "cell_type": "markdown",
   "metadata": {},
   "source": [
    "1. Round 4.5667 to the nearest hundreth using a build-in function, round()."
   ]
  },
  {
   "cell_type": "code",
   "execution_count": 1,
   "metadata": {},
   "outputs": [
    {
     "name": "stdout",
     "output_type": "stream",
     "text": [
      "4.56\n"
     ]
    }
   ],
   "source": [
    "print(round(4.5567,2))"
   ]
  },
  {
   "cell_type": "markdown",
   "metadata": {},
   "source": [
    "2. Convert \"657\" to an integer data type"
   ]
  },
  {
   "cell_type": "code",
   "execution_count": 5,
   "metadata": {},
   "outputs": [
    {
     "name": "stdout",
     "output_type": "stream",
     "text": [
      "<class 'int'>\n"
     ]
    }
   ],
   "source": [
    "num = \"657\"\n",
    "num2 = int(num)\n",
    "print(type(num2))"
   ]
  },
  {
   "cell_type": "markdown",
   "metadata": {},
   "source": [
    "3.\n",
    "Write a program to get two numbers from a user. Then, create a secret code where a code consists of 6 numbers and each number is randomly generated number between two numbers from a user. "
   ]
  },
  {
   "cell_type": "code",
   "execution_count": 7,
   "metadata": {},
   "outputs": [
    {
     "name": "stdout",
     "output_type": "stream",
     "text": [
      "First number: 88\n",
      "second number:248\n",
      "The output is 194 229 136 209 248 244\n"
     ]
    }
   ],
   "source": [
    "import random as rand\n",
    "user1 = int(input(\"First number: \"))\n",
    "user2 = int(input(\"second number:\"))\n",
    "\n",
    "num1 = rand.randint(user1, user2)\n",
    "num2 = rand.randint(user1, user2)\n",
    "num3 = rand.randint(user1, user2)\n",
    "num4 = rand.randint(user1, user2)\n",
    "num5 = rand.randint(user1, user2)\n",
    "num6 = rand.randint(user1, user2)\n",
    "\n",
    "print(f\"The output is {num1} {num2} {num3} {num4} {num5} {num6}\")\n"
   ]
  },
  {
   "cell_type": "markdown",
   "metadata": {},
   "source": [
    "4.\n",
    "Write a program to center align below text where number of characters per line is 40:\n",
    "\n",
    "    Hickory, dickory, dock,\n",
    "    The mouse ran up the clock.\n",
    "    The clock struck one,\n",
    "    The mouse ran down,\n",
    "    Hickory, dickory, dock\n",
    "\n",
    "<b>Do not use string's center method! </b>"
   ]
  },
  {
   "cell_type": "code",
   "execution_count": 11,
   "metadata": {},
   "outputs": [
    {
     "name": "stdout",
     "output_type": "stream",
     "text": [
      "0000000000000000000000000000000000000000\n",
      "        Hickory, dickory, dock,        \n",
      "      The mouse ran up the clock.      \n",
      "         The clock struck one,         \n",
      "          The mouse ran down,          \n",
      "         Hickory, dickory, dock         \n"
     ]
    }
   ],
   "source": [
    "line1 = \"Hickory, dickory, dock,\"\n",
    "line2 = \"The mouse ran up the clock.\"\n",
    "line3 = \"The clock struck one,\"\n",
    "line4 = \"The mouse ran down,\"\n",
    "line5 = \"Hickory, dickory, dock\"\n",
    "\n",
    "maxchar = 40\n",
    "delim = ' '\n",
    "print(\"0000000000000000000000000000000000000000\")\n",
    "\n",
    "line1 = line1.strip()\n",
    "space = maxchar - len(line1)\n",
    "padding = delim * int(space/2)\n",
    "print(f\"{padding}{line1}{padding}\")\n",
    "\n",
    "line2 = line2.strip()\n",
    "space = maxchar - len(line2)\n",
    "padding = delim * int(space/2)\n",
    "print(f\"{padding}{line2}{padding}\")\n",
    "\n",
    "line3 = line3.strip()\n",
    "space = maxchar - len(line3)\n",
    "padding = delim * int(space/2)\n",
    "print(f\"{padding}{line3}{padding}\")\n",
    "\n",
    "line4 = line4.strip()\n",
    "space = maxchar - len(line4)\n",
    "padding = delim * int(space/2)\n",
    "print(f\"{padding}{line4}{padding}\")\n",
    "\n",
    "line5 = line5.strip()\n",
    "space = maxchar - len(line5)\n",
    "padding = delim * int(space/2)\n",
    "print(f\"{padding}{line5}{padding}\")\n"
   ]
  },
  {
   "cell_type": "markdown",
   "metadata": {},
   "source": [
    "5. Write a function to calculate the miles per gallon.\n",
    "Get a miles driven and gallons used from a user and call your function to calculate the miles per gallon. "
   ]
  },
  {
   "cell_type": "code",
   "execution_count": 12,
   "metadata": {},
   "outputs": [],
   "source": [
    "def miles_per_gal(miles, gallons) :\n",
    "    gal = miles/gallons\n",
    "    gal = round(gal, 2)\n",
    "    return gal"
   ]
  },
  {
   "cell_type": "code",
   "execution_count": 14,
   "metadata": {},
   "outputs": [
    {
     "name": "stdout",
     "output_type": "stream",
     "text": [
      "Enter miles driven: 200\n",
      "Enter gallons used: 50\n",
      "Miles per Gallon: 4.0\n"
     ]
    }
   ],
   "source": [
    "miles = float(input(\"Enter miles driven: \"))\n",
    "gallons = float(input(\"Enter gallons used: \"))\n",
    "\n",
    "gal = miles_per_gal(miles, gallons)\n",
    "\n",
    "print(f\"Miles per Gallon: {gal}\")"
   ]
  },
  {
   "cell_type": "code",
   "execution_count": null,
   "metadata": {},
   "outputs": [],
   "source": []
  }
 ],
 "metadata": {
  "kernelspec": {
   "display_name": "Python 3",
   "language": "python",
   "name": "python3"
  },
  "language_info": {
   "codemirror_mode": {
    "name": "ipython",
    "version": 3
   },
   "file_extension": ".py",
   "mimetype": "text/x-python",
   "name": "python",
   "nbconvert_exporter": "python",
   "pygments_lexer": "ipython3",
   "version": "3.8.8"
  }
 },
 "nbformat": 4,
 "nbformat_minor": 4
}
